{
  "nbformat": 4,
  "nbformat_minor": 0,
  "metadata": {
    "colab": {
      "provenance": [],
      "authorship_tag": "ABX9TyPUEN2X48wRYzl+SYZjiygS",
      "include_colab_link": true
    },
    "kernelspec": {
      "name": "python3",
      "display_name": "Python 3"
    },
    "language_info": {
      "name": "python"
    }
  },
  "cells": [
    {
      "cell_type": "markdown",
      "metadata": {
        "id": "view-in-github",
        "colab_type": "text"
      },
      "source": [
        "<a href=\"https://colab.research.google.com/github/ChristianJFG/Portfolio-GitHub/blob/main/Maxmin_Driving_Force.ipynb\" target=\"_parent\"><img src=\"https://colab.research.google.com/assets/colab-badge.svg\" alt=\"Open In Colab\"/></a>"
      ]
    },
    {
      "cell_type": "markdown",
      "source": [
        "# Importar librería de optimización lineal"
      ],
      "metadata": {
        "id": "Dpadvlt5D83R"
      }
    },
    {
      "cell_type": "code",
      "execution_count": null,
      "metadata": {
        "colab": {
          "base_uri": "https://localhost:8080/"
        },
        "id": "m9ShhwueAWpx",
        "outputId": "c80ca99a-9fe6-4ce4-fcc8-d5d561a19591"
      },
      "outputs": [
        {
          "output_type": "stream",
          "name": "stdout",
          "text": [
            "\u001b[33mWARNING: Running pip as the 'root' user can result in broken permissions and conflicting behaviour with the system package manager. It is recommended to use a virtual environment instead: https://pip.pypa.io/warnings/venv\u001b[0m\u001b[33m\n",
            "\u001b[0m✨🍰✨ Everything looks OK!\n",
            "Collecting package metadata (current_repodata.json): - \b\b\\ \b\b| \b\b/ \b\b- \b\b\\ \b\b| \b\b/ \b\b- \b\b\\ \b\b| \b\b/ \b\b- \b\b\\ \b\b| \b\b/ \b\b- \b\b\\ \b\b| \b\b/ \b\b- \b\b\\ \b\b| \b\b/ \b\b- \b\b\\ \b\b| \b\b/ \b\b- \b\b\\ \b\b| \b\b/ \b\b- \b\b\\ \b\b| \b\b/ \b\bdone\n",
            "Solving environment: \\ \b\b| \b\b/ \b\b- \b\b\\ \b\b| \b\b/ \b\b- \b\b\\ \b\b| \b\b/ \b\b- \b\b\\ \b\b| \b\b/ \b\b- \b\b\\ \b\b| \b\b/ \b\b- \b\bdone\n",
            "\n",
            "\n",
            "==> WARNING: A newer version of conda exists. <==\n",
            "  current version: 23.1.0\n",
            "  latest version: 23.7.2\n",
            "\n",
            "Please update conda by running\n",
            "\n",
            "    $ conda update -n base -c conda-forge conda\n",
            "\n",
            "Or to minimize the number of packages updated during conda update use\n",
            "\n",
            "     conda install conda=23.7.2\n",
            "\n",
            "\n",
            "\n",
            "# All requested packages already installed.\n",
            "\n"
          ]
        }
      ],
      "source": [
        "!pip install -q condacolab\n",
        "import condacolab\n",
        "condacolab.install()\n",
        "!conda install -c conda-forge pyscipopt\n",
        "\n"
      ]
    },
    {
      "cell_type": "code",
      "source": [
        "!conda update -n base -c conda-forge conda"
      ],
      "metadata": {
        "colab": {
          "base_uri": "https://localhost:8080/"
        },
        "id": "DFRsBfF6rqSD",
        "outputId": "48bed7b7-3ffa-4961-a545-61bf62c2d680"
      },
      "execution_count": null,
      "outputs": [
        {
          "output_type": "stream",
          "name": "stdout",
          "text": [
            "Collecting package metadata (current_repodata.json): - \b\b\\ \b\b| \b\b/ \b\b- \b\b\\ \b\b| \b\b/ \b\b- \b\b\\ \b\b| \b\b/ \b\b- \b\b\\ \b\b| \b\b/ \b\b- \b\b\\ \b\b| \b\b/ \b\b- \b\b\\ \b\b| \b\b/ \b\b- \b\b\\ \b\b| \b\b/ \b\b- \b\b\\ \b\b| \b\b/ \b\bdone\n",
            "Solving environment: \\ \b\b| \b\b/ \b\b- \b\b\\ \b\b| \b\b/ \b\b- \b\b\\ \b\b| \b\b/ \b\b- \b\b\\ \b\b| \b\b/ \b\b- \b\b\\ \b\b| \b\b/ \b\b- \b\b\\ \b\b| \b\b/ \b\b- \b\b\\ \b\b| \b\b/ \b\b- \b\b\\ \b\b| \b\b/ \b\b- \b\b\\ \b\b| \b\b/ \b\b- \b\b\\ \b\b| \b\b/ \b\b- \b\b\\ \b\b| \b\b/ \b\b- \b\b\\ \b\b| \b\b/ \b\b- \b\b\\ \b\b| \b\b/ \b\b- \b\b\\ \b\b| \b\b/ \b\b- \b\b\\ \b\b| \b\b/ \b\b- \b\b\\ \b\b| \b\bdone\n",
            "\n",
            "\n",
            "==> WARNING: A newer version of conda exists. <==\n",
            "  current version: 23.1.0\n",
            "  latest version: 23.7.2\n",
            "\n",
            "Please update conda by running\n",
            "\n",
            "    $ conda update -n base -c conda-forge conda\n",
            "\n",
            "Or to minimize the number of packages updated during conda update use\n",
            "\n",
            "     conda install conda=23.7.2\n",
            "\n",
            "\n",
            "\n",
            "# All requested packages already installed.\n",
            "\n"
          ]
        }
      ]
    },
    {
      "cell_type": "markdown",
      "source": [
        "# Importar librería para cálculo numérico"
      ],
      "metadata": {
        "id": "wsBT_ADB0DxO"
      }
    },
    {
      "cell_type": "code",
      "source": [
        "import numpy as np"
      ],
      "metadata": {
        "id": "m1hLdX_c0J8k"
      },
      "execution_count": null,
      "outputs": []
    },
    {
      "cell_type": "markdown",
      "source": [
        "# Importación de la matriz estequiométrica S"
      ],
      "metadata": {
        "id": "6d7dTjA11YXK"
      }
    },
    {
      "cell_type": "code",
      "source": [
        "!pip install pandas\n",
        "import pandas as pd\n",
        "from google.colab import drive\n",
        "\n",
        "# Mount your Google Drive\n",
        "drive.mount('/content/drive')\n",
        "\n",
        "# Load the specified range of cells from the Excel file into a pandas DataFrame\n",
        "df = pd.read_excel('/content/drive/My Drive/Xylitol/Python/Smatrix.xlsx', usecols='E:T', skiprows=range(1, 4), nrows=30)\n",
        "\n",
        "# Convert the DataFrame into a matrix\n",
        "S = df.to_numpy()"
      ],
      "metadata": {
        "colab": {
          "base_uri": "https://localhost:8080/",
          "height": 498
        },
        "id": "3Wpm5ScM1cBf",
        "outputId": "54ef5205-c02c-4bac-a6b5-5b30411f0c99"
      },
      "execution_count": null,
      "outputs": [
        {
          "output_type": "stream",
          "name": "stdout",
          "text": [
            "Collecting pandas\n",
            "  Downloading pandas-2.0.3-cp310-cp310-manylinux_2_17_x86_64.manylinux2014_x86_64.whl (12.3 MB)\n",
            "\u001b[2K     \u001b[90m━━━━━━━━━━━━━━━━━━━━━━━━━━━━━━━━━━━━━━━━\u001b[0m \u001b[32m12.3/12.3 MB\u001b[0m \u001b[31m21.9 MB/s\u001b[0m eta \u001b[36m0:00:00\u001b[0m\n",
            "\u001b[?25hCollecting pytz>=2020.1\n",
            "  Downloading pytz-2023.3-py2.py3-none-any.whl (502 kB)\n",
            "\u001b[2K     \u001b[90m━━━━━━━━━━━━━━━━━━━━━━━━━━━━━━━━━━━━━━\u001b[0m \u001b[32m502.3/502.3 kB\u001b[0m \u001b[31m39.0 MB/s\u001b[0m eta \u001b[36m0:00:00\u001b[0m\n",
            "\u001b[?25hCollecting numpy>=1.21.0\n",
            "  Downloading numpy-1.25.2-cp310-cp310-manylinux_2_17_x86_64.manylinux2014_x86_64.whl (18.2 MB)\n",
            "\u001b[2K     \u001b[90m━━━━━━━━━━━━━━━━━━━━━━━━━━━━━━━━━━━━━━━━\u001b[0m \u001b[32m18.2/18.2 MB\u001b[0m \u001b[31m19.8 MB/s\u001b[0m eta \u001b[36m0:00:00\u001b[0m\n",
            "\u001b[?25hCollecting tzdata>=2022.1\n",
            "  Downloading tzdata-2023.3-py2.py3-none-any.whl (341 kB)\n",
            "\u001b[2K     \u001b[90m━━━━━━━━━━━━━━━━━━━━━━━━━━━━━━━━━━━━━━\u001b[0m \u001b[32m341.8/341.8 kB\u001b[0m \u001b[31m33.5 MB/s\u001b[0m eta \u001b[36m0:00:00\u001b[0m\n",
            "\u001b[?25hCollecting python-dateutil>=2.8.2\n",
            "  Downloading python_dateutil-2.8.2-py2.py3-none-any.whl (247 kB)\n",
            "\u001b[2K     \u001b[90m━━━━━━━━━━━━━━━━━━━━━━━━━━━━━━━━━━━━━━\u001b[0m \u001b[32m247.7/247.7 kB\u001b[0m \u001b[31m24.5 MB/s\u001b[0m eta \u001b[36m0:00:00\u001b[0m\n",
            "\u001b[?25hCollecting six>=1.5\n",
            "  Downloading six-1.16.0-py2.py3-none-any.whl (11 kB)\n",
            "Installing collected packages: pytz, tzdata, six, numpy, python-dateutil, pandas\n",
            "Successfully installed numpy-1.25.2 pandas-2.0.3 python-dateutil-2.8.2 pytz-2023.3 six-1.16.0 tzdata-2023.3\n",
            "\u001b[33mWARNING: Running pip as the 'root' user can result in broken permissions and conflicting behaviour with the system package manager. It is recommended to use a virtual environment instead: https://pip.pypa.io/warnings/venv\u001b[0m\u001b[33m\n",
            "\u001b[0m"
          ]
        },
        {
          "output_type": "display_data",
          "data": {
            "application/vnd.colab-display-data+json": {
              "pip_warning": {
                "packages": [
                  "dateutil",
                  "six"
                ]
              }
            }
          },
          "metadata": {}
        },
        {
          "output_type": "stream",
          "name": "stdout",
          "text": [
            "Mounted at /content/drive\n"
          ]
        }
      ]
    },
    {
      "cell_type": "markdown",
      "source": [
        "# Vectores de energías"
      ],
      "metadata": {
        "id": "1ed-CizENMte"
      }
    },
    {
      "cell_type": "code",
      "source": [
        "# Vector de energías de formación\n",
        "G_for=np.array([\n",
        "-1449.0,\n",
        "-2327.0,\n",
        "-67,\n",
        "-403.1,\n",
        "-403.1,\n",
        "-977.1,\n",
        "-936.6,\n",
        "-1080.9,\n",
        "-1338.4,\n",
        "-1106.2,\n",
        "0,\n",
        "-156.1,\n",
        "-1222.6,\n",
        "-1156.9,\n",
        "-2108.6,\n",
        "-2029.5,\n",
        "63.1,\n",
        "72.2,\n",
        "-0.7,\n",
        "-0.7,\n",
        "-367.5,\n",
        "-1253.6,\n",
        "-1250.0,\n",
        "-312.1,\n",
        "-284.7,\n",
        "-359.8,\n",
        "-337.0,\n",
        "-356.1,\n",
        "-1253.5,\n",
        "-1585.1,\n",
        "])\n",
        "\n",
        "# Vector de energías estándar\n",
        "G_est=S.transpose() @ G_for"
      ],
      "metadata": {
        "id": "XmSYG3UgNQD9"
      },
      "execution_count": null,
      "outputs": []
    },
    {
      "cell_type": "markdown",
      "source": [
        "# Cálculo de la Maxmin Driving Force"
      ],
      "metadata": {
        "id": "-YG9bfpmvAWx"
      }
    },
    {
      "cell_type": "code",
      "source": [
        "\n",
        "\n",
        "# Constantes\n",
        "RT=(8.31446261815324e-3)*(298) # kJ/mol\n",
        "logCmin=float(np.log(1e-6))\n",
        "logCmax=float(np.log(20e-3))\n",
        "\n",
        "#Creación del problema de optimización\n",
        "from pyscipopt import Model, quicksum\n",
        "model = Model()\n",
        "\n",
        "\n",
        "# Variables\n",
        "B = model.addVar(lb=-float(\"Inf\"),ub=float(\"Inf\"),name=\"B\")\n",
        "logx_1=model.addVar(lb=logCmin,ub=logCmax,name=\"logx_1\") # ADP\n",
        "logx_2=model.addVar(lb=logCmin,ub=logCmax,name=\"logx_2\") # ATP\n",
        "logx_3=model.addVar(lb=logCmin,ub=float(np.log(2.14)),name=\"logx_3\") # BIOMASA\n",
        "logx_4=model.addVar(lb=logCmin,ub=logCmax,name=\"logx_4\") # CO2\n",
        "logx_5=model.addVar(lb=logCmin,ub=logCmax,name=\"logx_5\") # CO2 EXT\n",
        "logx_6=model.addVar(lb=logCmin,ub=logCmax,name=\"logx_6\") # FAD\n",
        "logx_7=model.addVar(lb=logCmin,ub=logCmax,name=\"logx_7\") # FADH2\n",
        "logx_8=model.addVar(lb=logCmin,ub=logCmax,name=\"logx_8\") # FOSFATO\n",
        "logx_9=model.addVar(lb=logCmin,ub=logCmax,name=\"logx_9\") # FRUCTOSA-6-P\n",
        "logx_10=model.addVar(lb=logCmin,ub=float(np.log(100e-03)),name=\"logx_10\") # GLICERALDEHIDO-3-P\n",
        "logx_11=model.addVar(lb=logCmin,ub=logCmax,name=\"logx_11\") # H+\n",
        "logx_12=model.addVar(lb=logCmin,ub=float(np.log(float(\"Inf\"))),name=\"logx_12\") # H2O\n",
        "logx_13=model.addVar(lb=logCmin,ub=logCmax,name=\"logx_13\") # NAD+\n",
        "logx_14=model.addVar(lb=logCmin,ub=logCmax,name=\"logx_14\") # NADH\n",
        "logx_15=model.addVar(lb=logCmin,ub=logCmax,name=\"logx_15\") # NADP+\n",
        "logx_16=model.addVar(lb=logCmin,ub=logCmax,name=\"logx_16\") # NADPH\n",
        "logx_17=model.addVar(lb=logCmin,ub=logCmax,name=\"logx_17\") # NH3\n",
        "logx_18=model.addVar(lb=logCmin,ub=logCmax,name=\"logx_18\") # NH3 EXT\n",
        "logx_19=model.addVar(lb=logCmin,ub=logCmax,name=\"logx_19\") # O2\n",
        "logx_20=model.addVar(lb=logCmin,ub=logCmax,name=\"logx_20\") # O2 EXT\n",
        "logx_21=model.addVar(lb=logCmin,ub=logCmax,name=\"logx_21\") # PIRUVATO\n",
        "logx_22=model.addVar(lb=logCmin,ub=logCmax,name=\"logx_22\") # RIBOSA-5-P\n",
        "logx_23=model.addVar(lb=logCmin,ub=logCmax,name=\"logx_23\") # RIBULOSA-5-P\n",
        "logx_24=model.addVar(lb=logCmin,ub=logCmax,name=\"logx_24\") # XILITOL\n",
        "logx_25=model.addVar(lb=logCmin,ub=logCmax,name=\"logx_25\") # XILITOL EXT\n",
        "logx_26=model.addVar(lb=logCmin,ub=logCmax,name=\"logx_26\") # XILOSA\n",
        "logx_27=model.addVar(lb=logCmin,ub=logCmax,name=\"logx_27\") # XILOSA EXT\n",
        "logx_28=model.addVar(lb=logCmin,ub=logCmax,name=\"logx_28\") # XILULOSA\n",
        "logx_29=model.addVar(lb=logCmin,ub=logCmax,name=\"logx_29\") # XILULOSA-5-P\n",
        "logx_30=model.addVar(lb=logCmin,ub=logCmax,name=\"logx_30\") # 6-P-GLUCONATO\n",
        "\n",
        "# Creamos un vector para almacenar las concentraciones\n",
        "logx=[logx_1,logx_2,logx_3,logx_4,logx_5,logx_6,logx_7,logx_8,logx_9,\n",
        "      logx_10,logx_11,logx_12,logx_13,logx_14,logx_15,logx_16,logx_17,logx_18,\n",
        "      logx_19,logx_20,logx_21,logx_22,logx_23,logx_24,logx_25,logx_26,logx_27,\n",
        "      logx_28,logx_29,logx_30]\n",
        "\n",
        "\n",
        "\n",
        "# Restricciones (Pueden ser no lineales)\n",
        "for j in range(S.shape[1]):\n",
        "  model.addCons(-float(G_est[j])-RT*quicksum(float(S[i,j])*logx[i] for i in range(S.shape[0])) >= B)\n",
        "\n",
        "\n",
        "# Establecemos la función objetivo (Tiene que ser lineal) y el sentido del problema\n",
        "model.setObjective(B,sense=\"maximize\")\n",
        "#Damos la instrucción de optimizar\n",
        "model.optimize()\n",
        "sol = model.getBestSol()\n",
        "#Determinamos si existe solución o no\n",
        "model.getStatus()\n",
        "\n",
        "\n",
        "\n",
        "\n",
        "\n",
        "\n"
      ],
      "metadata": {
        "id": "8gxeG4_HvE_Y",
        "colab": {
          "base_uri": "https://localhost:8080/",
          "height": 35
        },
        "outputId": "ef5fb341-0471-40df-9655-49c3665962f1"
      },
      "execution_count": null,
      "outputs": [
        {
          "output_type": "execute_result",
          "data": {
            "text/plain": [
              "'optimal'"
            ],
            "application/vnd.google.colaboratory.intrinsic+json": {
              "type": "string"
            }
          },
          "metadata": {},
          "execution_count": 11
        }
      ]
    },
    {
      "cell_type": "markdown",
      "source": [
        "# Resultados"
      ],
      "metadata": {
        "id": "L0Z4482rJlmL"
      }
    },
    {
      "cell_type": "code",
      "source": [
        "print(f\"MDF={sol[B]} kJ/mol\")\n",
        "for i in range(S.shape[0]):\n",
        " print(f\"x_{i+1}={np.exp(sol[logx[i]])} M\")"
      ],
      "metadata": {
        "colab": {
          "base_uri": "https://localhost:8080/"
        },
        "id": "w3pMrpB16vXM",
        "outputId": "fada8c39-08cc-4200-f86f-4f748c4ac574"
      },
      "execution_count": null,
      "outputs": [
        {
          "output_type": "stream",
          "name": "stdout",
          "text": [
            "MDF=-2.8620312406175827 kJ/mol\n",
            "x_1=0.02 M\n",
            "x_2=1.0000000000000004e-06 M\n",
            "x_3=1.0000000000000004e-06 M\n",
            "x_4=1.0000000000000004e-06 M\n",
            "x_5=1.0000000000000004e-06 M\n",
            "x_6=0.01831563888873418 M\n",
            "x_7=0.01831563888873418 M\n",
            "x_8=0.02 M\n",
            "x_9=0.02 M\n",
            "x_10=0.10000000000000002 M\n",
            "x_11=1.0000000000000004e-06 M\n",
            "x_12=14.485988166360357 M\n",
            "x_13=0.02 M\n",
            "x_14=1.1015301669907273e-06 M\n",
            "x_15=0.02 M\n",
            "x_16=0.02 M\n",
            "x_17=0.02 M\n",
            "x_18=0.02 M\n",
            "x_19=0.02 M\n",
            "x_20=0.02 M\n",
            "x_21=1.0000000000000004e-06 M\n",
            "x_22=0.02 M\n",
            "x_23=0.0014735377079312538 M\n",
            "x_24=0.02 M\n",
            "x_25=1.0000000000000004e-06 M\n",
            "x_26=0.02 M\n",
            "x_27=0.02 M\n",
            "x_28=0.0027711455921718745 M\n",
            "x_29=0.0011059401874950314 M\n",
            "x_30=1.638239483434012e-05 M\n"
          ]
        }
      ]
    }
  ]
}